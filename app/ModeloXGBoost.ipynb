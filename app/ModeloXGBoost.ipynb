{
 "cells": [
  {
   "cell_type": "markdown",
   "metadata": {},
   "source": [
    "## Modelo de Regressão - XGBoost"
   ]
  },
  {
   "cell_type": "markdown",
   "metadata": {},
   "source": [
    "### Serão testados 3 versões do algoritmo XGBoost:\n",
    "#### v1 - uso de 10 estimadores\n",
    "#### v2 - uso da estruta DMatrix para otimização de memória e velocidade de treinamento\n",
    "#### v3 - uso do GridSelection para seleção dos melhores Hyperparâmetros"
   ]
  },
  {
   "cell_type": "markdown",
   "metadata": {},
   "source": [
    "## Métricas baseline\n",
    "\n",
    "#### RMSE = 4.96\n",
    "#### r2 = 0.76"
   ]
  },
  {
   "cell_type": "markdown",
   "metadata": {},
   "source": [
    "## Nota\n",
    "\n",
    "#### Por se tratar por um modelo de baixa complexidade de alta correlação da variável target com a feature 'distance_km', é bem provável que o modelo baseline se saia melhor do que algumas versões."
   ]
  },
  {
   "cell_type": "code",
   "execution_count": null,
   "metadata": {},
   "outputs": [],
   "source": [
    "# Versão da Linguagem Python\n",
    "from platform import python_version\n",
    "print('Versão da Linguagem Python Usada Neste Jupyter Notebook:', python_version())"
   ]
  },
  {
   "cell_type": "code",
   "execution_count": 1,
   "metadata": {},
   "outputs": [],
   "source": [
    "# Imports\n",
    "import numpy as np\n",
    "import pandas as pd\n",
    "import warnings\n",
    "import matplotlib.pyplot as plt\n",
    "from sklearn.model_selection import train_test_split\n",
    "from sklearn.metrics import r2_score\n",
    "from sklearn.model_selection import GridSearchCV\n",
    "from sklearn.metrics import mean_squared_error as MSE\n",
    "import xgboost as xgb\n",
    "import tools\n",
    "from datetime import datetime as dt\n",
    "import pickle\n",
    "warnings.filterwarnings(\"ignore\")\n",
    "%matplotlib inline"
   ]
  },
  {
   "cell_type": "code",
   "execution_count": null,
   "metadata": {},
   "outputs": [],
   "source": [
    "# Versões dos pacotes usados neste jupyter notebook\n",
    "%reload_ext watermark\n",
    "%watermark -a \"Fabiano Fonseca - MLE\" --iversions"
   ]
  },
  {
   "cell_type": "markdown",
   "metadata": {},
   "source": [
    "### Carregando dataset"
   ]
  },
  {
   "cell_type": "code",
   "execution_count": null,
   "metadata": {},
   "outputs": [],
   "source": [
    "size_dataset = 1000000\n",
    "size_float = 32"
   ]
  },
  {
   "cell_type": "code",
   "execution_count": null,
   "metadata": {},
   "outputs": [],
   "source": [
    "csvFileName = \"../data/data_fe_\" + str(size_dataset) + \"_20220320.csv\"\n",
    "df = pd.read_csv(csvFileName)"
   ]
  },
  {
   "cell_type": "code",
   "execution_count": null,
   "metadata": {},
   "outputs": [],
   "source": [
    "df.info()"
   ]
  },
  {
   "cell_type": "code",
   "execution_count": null,
   "metadata": {},
   "outputs": [],
   "source": [
    "if (size_float == 32):\n",
    "    df = tools.reduce_size_features(df, verbose=True)\n",
    "    df.info()"
   ]
  },
  {
   "cell_type": "code",
   "execution_count": null,
   "metadata": {},
   "outputs": [],
   "source": [
    "# Shape\n",
    "df.shape"
   ]
  },
  {
   "cell_type": "code",
   "execution_count": null,
   "metadata": {},
   "outputs": [],
   "source": [
    "df.head()"
   ]
  },
  {
   "cell_type": "markdown",
   "metadata": {},
   "source": [
    "### Seleciona as Features para serem testadas na criação do Modelo"
   ]
  },
  {
   "cell_type": "code",
   "execution_count": null,
   "metadata": {},
   "outputs": [],
   "source": [
    "# selecionando todas features para experimentação\n",
    "X = df[['pickup_longitude','pickup_latitude','dropoff_longitude','dropoff_latitude','passenger_count','hour','day_of_week','day_of_month','week','month','hour_norm','cos_hour','sin_hour','day_of_week_norm','cos_day_of_week','sin_day_of_week','day_of_month_norm','cos_day_of_month','sin_day_of_month','week_norm','cos_week','sin_week','distance_km']]\n",
    "\n",
    "# Alvo\n",
    "Y = df[['fare_amount']].values\n",
    "\n",
    "#split para treino\n",
    "X_train, X_test, y_train, y_test = train_test_split(X, Y, test_size=0.2)"
   ]
  },
  {
   "cell_type": "markdown",
   "metadata": {},
   "source": [
    "### v1 - uso de 10 estimadores"
   ]
  },
  {
   "cell_type": "code",
   "execution_count": null,
   "metadata": {},
   "outputs": [],
   "source": [
    "xgb_r = xgb.XGBRegressor(objective ='reg:squarederror',\n",
    "                  n_estimators = 10, seed = 123)\n",
    "  \n",
    "xgb_r.fit(X_train, y_train)\n",
    "pred = xgb_r.predict(X_test)  "
   ]
  },
  {
   "cell_type": "code",
   "execution_count": null,
   "metadata": {},
   "outputs": [],
   "source": [
    "# RMSE Computation\n",
    "rmse = np.sqrt(MSE(y_test, pred))\n",
    "print(\"RMSE : % f\" %(rmse))"
   ]
  },
  {
   "cell_type": "code",
   "execution_count": null,
   "metadata": {},
   "outputs": [],
   "source": [
    "print('R2Score: ',r2_score(y_test, pred))"
   ]
  },
  {
   "cell_type": "markdown",
   "metadata": {},
   "source": [
    "### v2 - uso da estruta DMatrix para otimização de memória e velocidade de treinamento"
   ]
  },
  {
   "cell_type": "code",
   "execution_count": null,
   "metadata": {},
   "outputs": [],
   "source": [
    "train_dmatrix = xgb.DMatrix(data = X_train, label = y_train)\n",
    "test_dmatrix = xgb.DMatrix(data = X_test, label = y_test)\n",
    "\n",
    "param = {\"booster\":\"gblinear\", \"objective\":\"reg:squarederror\"}\n",
    "  \n",
    "xgb_r = xgb.train(params = param, dtrain = train_dmatrix, num_boost_round = 10)\n",
    "pred = xgb_r.predict(test_dmatrix)"
   ]
  },
  {
   "cell_type": "code",
   "execution_count": null,
   "metadata": {},
   "outputs": [],
   "source": [
    "# Calcula RMSE\n",
    "rmse = np.sqrt(MSE(y_test, pred))\n",
    "print(\"RMSE : % f\" %(rmse))"
   ]
  },
  {
   "cell_type": "code",
   "execution_count": null,
   "metadata": {},
   "outputs": [],
   "source": [
    "# Calcula r2\n",
    "print('R2Score: ',r2_score(y_test, pred))"
   ]
  },
  {
   "cell_type": "markdown",
   "metadata": {},
   "source": [
    "### v3 - uso do GridSelection para seleção dos melhores Hyperparâmetros"
   ]
  },
  {
   "cell_type": "code",
   "execution_count": null,
   "metadata": {},
   "outputs": [],
   "source": [
    "param = {'n_estimators':[100], 'max_depth':range(3,11), 'eta':[0.05,0.1]}\n",
    "xgr = xgb.XGBRegressor(objective ='reg:squarederror')\n",
    "\n",
    "# RMSE\n",
    "gs = GridSearchCV(estimator=xgr,param_grid=param,scoring='neg_root_mean_squared_error',cv=5,verbose=3)\n",
    "gs.fit(X_train,y_train)"
   ]
  },
  {
   "cell_type": "code",
   "execution_count": null,
   "metadata": {},
   "outputs": [],
   "source": [
    "# Mostrando o melhor hyperparâmetro\n",
    "# dependendo da máquina, vai demorar algumas horas.\n",
    "print(gs.best_params_)\n",
    "print(gs.best_score_)"
   ]
  },
  {
   "cell_type": "code",
   "execution_count": null,
   "metadata": {},
   "outputs": [],
   "source": [
    "#{'eta': 0.05, 'max_depth': 10, 'n_estimators': 100}\n",
    "#-3.4029746532440184\n",
    "\n",
    "#coloque aaui o resultado o melhor hyperparâmetros\n",
    "xgr = xgb.XGBRegressor(objective ='reg:squarederror', eta=0.05,max_depth=10,n_estimators=100)\n",
    "xgr.fit(X_train,y_train)\n",
    "pred = xgr.predict(X_test)"
   ]
  },
  {
   "cell_type": "code",
   "execution_count": null,
   "metadata": {},
   "outputs": [],
   "source": [
    "print('RMSE: ',MSE(y_test,pred,squared=False))"
   ]
  },
  {
   "cell_type": "code",
   "execution_count": null,
   "metadata": {},
   "outputs": [],
   "source": [
    "print('R2Score: ',xgr.score(X_test,y_test))"
   ]
  },
  {
   "cell_type": "markdown",
   "metadata": {},
   "source": [
    "#### Seleção das features que mais explicam a variabilidade da variável alvo."
   ]
  },
  {
   "cell_type": "code",
   "execution_count": null,
   "metadata": {},
   "outputs": [],
   "source": [
    "sorted_idx = xgr.feature_importances_.argsort()\n",
    "plt.figure(figsize=(10, 10))\n",
    "plt.xlabel(\"Xgboost Feature Importance\")\n",
    "display(plt.barh(X_test.columns[sorted_idx], xgr.feature_importances_[sorted_idx]))"
   ]
  },
  {
   "cell_type": "markdown",
   "metadata": {},
   "source": [
    "## Escolha do modelo\n",
    "\n",
    "#### A versão 3 com uso do GridSelection para melhor escolha do hyperparâmetro usado apresentou o melhor resultado sobre o\n",
    "#### modelo baseline.\n",
    "\n",
    "### Baseline: RMSE = 4.96  / r2 = 0.76\n",
    "### XGBoost v3: RMSE = 3.36  / r2 = 0.88"
   ]
  },
  {
   "cell_type": "markdown",
   "metadata": {},
   "source": [
    "#### Serializando o modelo"
   ]
  },
  {
   "cell_type": "code",
   "execution_count": null,
   "metadata": {},
   "outputs": [],
   "source": [
    "pickle.dump(xgr, open('../modelo/modelo_'+ dt.now().strftime(\"%Y%m%d\") + '.sav','wb'))"
   ]
  },
  {
   "cell_type": "markdown",
   "metadata": {},
   "source": [
    "### Fim. "
   ]
  },
  {
   "cell_type": "code",
   "execution_count": 2,
   "metadata": {},
   "outputs": [
    {
     "name": "stdout",
     "output_type": "stream",
     "text": [
      "Note: you may need to restart the kernel to use updated packages.\n"
     ]
    },
    {
     "name": "stderr",
     "output_type": "stream",
     "text": [
      "WARNING: Could not generate requirement for distribution -umpy 1.18.1 (d:\\anaconda3\\lib\\site-packages): Parse error at \"'-umpy==1'\": Expected W:(abcd...)\n",
      "WARNING: Could not generate requirement for distribution -orch 1.7.1 (d:\\anaconda3\\lib\\site-packages): Parse error at \"'-orch==1'\": Expected W:(abcd...)\n",
      "WARNING: Could not generate requirement for distribution -illow 7.0.0 (d:\\anaconda3\\lib\\site-packages): Parse error at \"'-illow=='\": Expected W:(abcd...)\n"
     ]
    }
   ],
   "source": [
    "pip freeze > requirements.txt"
   ]
  },
  {
   "cell_type": "code",
   "execution_count": 4,
   "metadata": {},
   "outputs": [
    {
     "name": "stdout",
     "output_type": "stream",
     "text": [
      "\n",
      "Note: you may need to restart the kernel to use updated packages.\n"
     ]
    }
   ],
   "source": [
    "conda list > '..\\data\\requirements_raw.txt'"
   ]
  },
  {
   "cell_type": "code",
   "execution_count": null,
   "metadata": {},
   "outputs": [],
   "source": []
  }
 ],
 "metadata": {
  "kernelspec": {
   "display_name": "Python 3",
   "language": "python",
   "name": "python3"
  },
  "language_info": {
   "codemirror_mode": {
    "name": "ipython",
    "version": 3
   },
   "file_extension": ".py",
   "mimetype": "text/x-python",
   "name": "python",
   "nbconvert_exporter": "python",
   "pygments_lexer": "ipython3",
   "version": "3.7.6"
  }
 },
 "nbformat": 4,
 "nbformat_minor": 4
}
