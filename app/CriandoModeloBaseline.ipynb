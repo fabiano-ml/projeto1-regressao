{
 "cells": [
  {
   "cell_type": "markdown",
   "metadata": {},
   "source": [
    "## Modelo de Regressão Linear - Baseline"
   ]
  },
  {
   "cell_type": "markdown",
   "metadata": {},
   "source": [
    "### Serão construídos modelos baseline usando Algoritmo de Regressão Linear sem normalização de dados.\n",
    "\n",
    "### Será usado algoritmo de Regularização Lasso para Feature Selection, incluíndo este resultado na lista de modelos.\n",
    "\n",
    "#### Para métricas de avaliação dos modelos baseline serão usadas RMSE e R2.\n",
    "\n",
    "##### Por se tratar de um modelo de baixa complexidade é bem provável que um algoritmo de Regressão Linear com escolhas de features alcance um bom resultado para baseline (acima de 70%). \n",
    "\n",
    "##### E também é bem provável que o uso de regularização LASSO não gere muita diferença diante poucas features e correlações bem definidas."
   ]
  },
  {
   "cell_type": "code",
   "execution_count": 1,
   "metadata": {},
   "outputs": [
    {
     "name": "stdout",
     "output_type": "stream",
     "text": [
      "Versão da Linguagem Python Usada Neste Jupyter Notebook: 3.7.6\n"
     ]
    }
   ],
   "source": [
    "# Versão da Linguagem Python\n",
    "from platform import python_version\n",
    "print('Versão da Linguagem Python Usada Neste Jupyter Notebook:', python_version())"
   ]
  },
  {
   "cell_type": "code",
   "execution_count": 2,
   "metadata": {},
   "outputs": [],
   "source": [
    "# Imports\n",
    "import numpy as np\n",
    "import pandas as pd\n",
    "import warnings\n",
    "import matplotlib\n",
    "import matplotlib.pyplot as plt\n",
    "from sklearn.model_selection import train_test_split\n",
    "from sklearn.linear_model import LinearRegression, LassoCV\n",
    "from sklearn.metrics import r2_score\n",
    "import tools \n",
    "from sklearn.model_selection import cross_val_score\n",
    "from datetime import datetime as dt\n",
    "warnings.filterwarnings(\"ignore\")\n",
    "%matplotlib inline"
   ]
  },
  {
   "cell_type": "code",
   "execution_count": 3,
   "metadata": {},
   "outputs": [
    {
     "name": "stdout",
     "output_type": "stream",
     "text": [
      "Author: Fabiano Fonseca - MLE\n",
      "\n",
      "numpy     : 1.19.1\n",
      "pandas    : 1.3.5\n",
      "matplotlib: 3.5.1\n",
      "\n"
     ]
    }
   ],
   "source": [
    "# Versões dos pacotes usados neste jupyter notebook\n",
    "%reload_ext watermark\n",
    "%watermark -a \"Fabiano Fonseca - MLE\" --iversions"
   ]
  },
  {
   "cell_type": "markdown",
   "metadata": {},
   "source": [
    "### Carregando dataset"
   ]
  },
  {
   "cell_type": "code",
   "execution_count": 4,
   "metadata": {},
   "outputs": [],
   "source": [
    "size_dataset = 1000000\n",
    "size_float = 32"
   ]
  },
  {
   "cell_type": "code",
   "execution_count": 5,
   "metadata": {},
   "outputs": [],
   "source": [
    "csvFileName = \"../data/data_fe_\" + str(size_dataset) + \"_20220320.csv\"\n",
    "df = pd.read_csv(csvFileName)"
   ]
  },
  {
   "cell_type": "code",
   "execution_count": 6,
   "metadata": {},
   "outputs": [
    {
     "name": "stdout",
     "output_type": "stream",
     "text": [
      "<class 'pandas.core.frame.DataFrame'>\n",
      "RangeIndex: 829515 entries, 0 to 829514\n",
      "Data columns (total 25 columns):\n",
      " #   Column             Non-Null Count   Dtype  \n",
      "---  ------             --------------   -----  \n",
      " 0   Unnamed: 0         829515 non-null  int64  \n",
      " 1   fare_amount        829515 non-null  float64\n",
      " 2   pickup_longitude   829515 non-null  float64\n",
      " 3   pickup_latitude    829515 non-null  float64\n",
      " 4   dropoff_longitude  829515 non-null  float64\n",
      " 5   dropoff_latitude   829515 non-null  float64\n",
      " 6   passenger_count    829515 non-null  int64  \n",
      " 7   hour               829515 non-null  int64  \n",
      " 8   day_of_week        829515 non-null  int64  \n",
      " 9   day_of_month       829515 non-null  int64  \n",
      " 10  week               829515 non-null  int64  \n",
      " 11  month              829515 non-null  int64  \n",
      " 12  hour_norm          829515 non-null  float64\n",
      " 13  cos_hour           829515 non-null  float64\n",
      " 14  sin_hour           829515 non-null  float64\n",
      " 15  day_of_week_norm   829515 non-null  float64\n",
      " 16  cos_day_of_week    829515 non-null  float64\n",
      " 17  sin_day_of_week    829515 non-null  float64\n",
      " 18  day_of_month_norm  829515 non-null  float64\n",
      " 19  cos_day_of_month   829515 non-null  float64\n",
      " 20  sin_day_of_month   829515 non-null  float64\n",
      " 21  week_norm          829515 non-null  float64\n",
      " 22  cos_week           829515 non-null  float64\n",
      " 23  sin_week           829515 non-null  float64\n",
      " 24  distance_km        829515 non-null  float64\n",
      "dtypes: float64(18), int64(7)\n",
      "memory usage: 158.2 MB\n"
     ]
    }
   ],
   "source": [
    "df.info()"
   ]
  },
  {
   "cell_type": "code",
   "execution_count": 7,
   "metadata": {},
   "outputs": [],
   "source": [
    "if (size_float == 32):\n",
    "    df = tools.reduce_size_features(df, verbose=True)\n",
    "    df.info()"
   ]
  },
  {
   "cell_type": "code",
   "execution_count": 8,
   "metadata": {},
   "outputs": [
    {
     "data": {
      "text/plain": [
       "(829515, 25)"
      ]
     },
     "execution_count": 8,
     "metadata": {},
     "output_type": "execute_result"
    }
   ],
   "source": [
    "# Shape\n",
    "df.shape"
   ]
  },
  {
   "cell_type": "code",
   "execution_count": 9,
   "metadata": {},
   "outputs": [
    {
     "data": {
      "text/html": [
       "<div>\n",
       "<style scoped>\n",
       "    .dataframe tbody tr th:only-of-type {\n",
       "        vertical-align: middle;\n",
       "    }\n",
       "\n",
       "    .dataframe tbody tr th {\n",
       "        vertical-align: top;\n",
       "    }\n",
       "\n",
       "    .dataframe thead th {\n",
       "        text-align: right;\n",
       "    }\n",
       "</style>\n",
       "<table border=\"1\" class=\"dataframe\">\n",
       "  <thead>\n",
       "    <tr style=\"text-align: right;\">\n",
       "      <th></th>\n",
       "      <th>Unnamed: 0</th>\n",
       "      <th>fare_amount</th>\n",
       "      <th>pickup_longitude</th>\n",
       "      <th>pickup_latitude</th>\n",
       "      <th>dropoff_longitude</th>\n",
       "      <th>dropoff_latitude</th>\n",
       "      <th>passenger_count</th>\n",
       "      <th>hour</th>\n",
       "      <th>day_of_week</th>\n",
       "      <th>day_of_month</th>\n",
       "      <th>...</th>\n",
       "      <th>day_of_week_norm</th>\n",
       "      <th>cos_day_of_week</th>\n",
       "      <th>sin_day_of_week</th>\n",
       "      <th>day_of_month_norm</th>\n",
       "      <th>cos_day_of_month</th>\n",
       "      <th>sin_day_of_month</th>\n",
       "      <th>week_norm</th>\n",
       "      <th>cos_week</th>\n",
       "      <th>sin_week</th>\n",
       "      <th>distance_km</th>\n",
       "    </tr>\n",
       "  </thead>\n",
       "  <tbody>\n",
       "    <tr>\n",
       "      <th>0</th>\n",
       "      <td>0</td>\n",
       "      <td>4.5</td>\n",
       "      <td>-73.844315</td>\n",
       "      <td>40.721317</td>\n",
       "      <td>-73.84161</td>\n",
       "      <td>40.712276</td>\n",
       "      <td>1</td>\n",
       "      <td>17</td>\n",
       "      <td>0</td>\n",
       "      <td>15</td>\n",
       "      <td>...</td>\n",
       "      <td>0.000000</td>\n",
       "      <td>1.0</td>\n",
       "      <td>0.000000e+00</td>\n",
       "      <td>3.040251</td>\n",
       "      <td>-0.994869</td>\n",
       "      <td>0.101168</td>\n",
       "      <td>2.963767</td>\n",
       "      <td>-0.984231</td>\n",
       "      <td>0.176890</td>\n",
       "      <td>1.0</td>\n",
       "    </tr>\n",
       "    <tr>\n",
       "      <th>1</th>\n",
       "      <td>1</td>\n",
       "      <td>16.9</td>\n",
       "      <td>-74.016045</td>\n",
       "      <td>40.711304</td>\n",
       "      <td>-73.97927</td>\n",
       "      <td>40.782005</td>\n",
       "      <td>1</td>\n",
       "      <td>16</td>\n",
       "      <td>1</td>\n",
       "      <td>5</td>\n",
       "      <td>...</td>\n",
       "      <td>1.047198</td>\n",
       "      <td>0.5</td>\n",
       "      <td>8.660254e-01</td>\n",
       "      <td>1.013417</td>\n",
       "      <td>0.528964</td>\n",
       "      <td>0.848644</td>\n",
       "      <td>0.118551</td>\n",
       "      <td>0.992981</td>\n",
       "      <td>0.118273</td>\n",
       "      <td>8.5</td>\n",
       "    </tr>\n",
       "    <tr>\n",
       "      <th>2</th>\n",
       "      <td>2</td>\n",
       "      <td>5.7</td>\n",
       "      <td>-73.982735</td>\n",
       "      <td>40.761270</td>\n",
       "      <td>-73.99124</td>\n",
       "      <td>40.750560</td>\n",
       "      <td>2</td>\n",
       "      <td>0</td>\n",
       "      <td>3</td>\n",
       "      <td>18</td>\n",
       "      <td>...</td>\n",
       "      <td>3.141593</td>\n",
       "      <td>-1.0</td>\n",
       "      <td>1.224647e-16</td>\n",
       "      <td>3.648301</td>\n",
       "      <td>-0.874347</td>\n",
       "      <td>-0.485302</td>\n",
       "      <td>3.912172</td>\n",
       "      <td>-0.717507</td>\n",
       "      <td>-0.696551</td>\n",
       "      <td>1.4</td>\n",
       "    </tr>\n",
       "    <tr>\n",
       "      <th>3</th>\n",
       "      <td>3</td>\n",
       "      <td>7.7</td>\n",
       "      <td>-73.987130</td>\n",
       "      <td>40.733143</td>\n",
       "      <td>-73.99157</td>\n",
       "      <td>40.758090</td>\n",
       "      <td>1</td>\n",
       "      <td>4</td>\n",
       "      <td>5</td>\n",
       "      <td>21</td>\n",
       "      <td>...</td>\n",
       "      <td>5.235988</td>\n",
       "      <td>0.5</td>\n",
       "      <td>-8.660254e-01</td>\n",
       "      <td>4.256352</td>\n",
       "      <td>-0.440394</td>\n",
       "      <td>-0.897805</td>\n",
       "      <td>1.896811</td>\n",
       "      <td>-0.320270</td>\n",
       "      <td>0.947326</td>\n",
       "      <td>2.8</td>\n",
       "    </tr>\n",
       "    <tr>\n",
       "      <th>4</th>\n",
       "      <td>4</td>\n",
       "      <td>5.3</td>\n",
       "      <td>-73.968094</td>\n",
       "      <td>40.768010</td>\n",
       "      <td>-73.95666</td>\n",
       "      <td>40.783764</td>\n",
       "      <td>1</td>\n",
       "      <td>7</td>\n",
       "      <td>1</td>\n",
       "      <td>9</td>\n",
       "      <td>...</td>\n",
       "      <td>1.047198</td>\n",
       "      <td>0.5</td>\n",
       "      <td>8.660254e-01</td>\n",
       "      <td>1.824151</td>\n",
       "      <td>-0.250653</td>\n",
       "      <td>0.968077</td>\n",
       "      <td>1.185507</td>\n",
       "      <td>0.375828</td>\n",
       "      <td>0.926690</td>\n",
       "      <td>2.0</td>\n",
       "    </tr>\n",
       "  </tbody>\n",
       "</table>\n",
       "<p>5 rows × 25 columns</p>\n",
       "</div>"
      ],
      "text/plain": [
       "   Unnamed: 0  fare_amount  pickup_longitude  pickup_latitude  \\\n",
       "0           0          4.5        -73.844315        40.721317   \n",
       "1           1         16.9        -74.016045        40.711304   \n",
       "2           2          5.7        -73.982735        40.761270   \n",
       "3           3          7.7        -73.987130        40.733143   \n",
       "4           4          5.3        -73.968094        40.768010   \n",
       "\n",
       "   dropoff_longitude  dropoff_latitude  passenger_count  hour  day_of_week  \\\n",
       "0          -73.84161         40.712276                1    17            0   \n",
       "1          -73.97927         40.782005                1    16            1   \n",
       "2          -73.99124         40.750560                2     0            3   \n",
       "3          -73.99157         40.758090                1     4            5   \n",
       "4          -73.95666         40.783764                1     7            1   \n",
       "\n",
       "   day_of_month  ...  day_of_week_norm  cos_day_of_week  sin_day_of_week  \\\n",
       "0            15  ...          0.000000              1.0     0.000000e+00   \n",
       "1             5  ...          1.047198              0.5     8.660254e-01   \n",
       "2            18  ...          3.141593             -1.0     1.224647e-16   \n",
       "3            21  ...          5.235988              0.5    -8.660254e-01   \n",
       "4             9  ...          1.047198              0.5     8.660254e-01   \n",
       "\n",
       "   day_of_month_norm  cos_day_of_month  sin_day_of_month  week_norm  cos_week  \\\n",
       "0           3.040251         -0.994869          0.101168   2.963767 -0.984231   \n",
       "1           1.013417          0.528964          0.848644   0.118551  0.992981   \n",
       "2           3.648301         -0.874347         -0.485302   3.912172 -0.717507   \n",
       "3           4.256352         -0.440394         -0.897805   1.896811 -0.320270   \n",
       "4           1.824151         -0.250653          0.968077   1.185507  0.375828   \n",
       "\n",
       "   sin_week  distance_km  \n",
       "0  0.176890          1.0  \n",
       "1  0.118273          8.5  \n",
       "2 -0.696551          1.4  \n",
       "3  0.947326          2.8  \n",
       "4  0.926690          2.0  \n",
       "\n",
       "[5 rows x 25 columns]"
      ]
     },
     "execution_count": 9,
     "metadata": {},
     "output_type": "execute_result"
    }
   ],
   "source": [
    "df.head()"
   ]
  },
  {
   "cell_type": "code",
   "execution_count": 10,
   "metadata": {},
   "outputs": [],
   "source": [
    "# selecionando determinadas features para experimentação\n",
    "X_full = ['pickup_longitude','pickup_latitude','dropoff_longitude','dropoff_latitude','passenger_count','hour','day_of_week','day_of_month','week','month','hour_norm','cos_hour','sin_hour','day_of_week_norm','cos_day_of_week','sin_day_of_week','day_of_month_norm','cos_day_of_month','sin_day_of_month','week_norm','cos_week','sin_week','distance_km']\n",
    "X_nogeo = ['passenger_count','hour','day_of_week','day_of_month','week','month','hour_norm','cos_hour','sin_hour', 'day_of_week_norm', 'cos_day_of_week','sin_day_of_week','day_of_month_norm','cos_day_of_month','sin_day_of_month','week_norm','cos_week','sin_week','distance_km']\n",
    "X_nogeo_cyclical = ['passenger_count','hour_norm','cos_hour','sin_hour','day_of_week_norm','cos_day_of_week','sin_day_of_week','day_of_month_norm','cos_day_of_month','sin_day_of_month','week_norm','cos_week','sin_week','distance_km']\n",
    "X_cyclical = ['pickup_longitude','pickup_latitude','dropoff_longitude','dropoff_latitude','passenger_count','hour_norm','cos_hour',    'sin_hour','day_of_week_norm','cos_day_of_week','sin_day_of_week','day_of_month_norm','cos_day_of_month','sin_day_of_month','week_norm','cos_week','sin_week','distance_km']\n",
    "\n",
    "# Alvo\n",
    "Y = df[['fare_amount']].values\n",
    "# coloca as features de treinamentoem uma lista\n",
    "lst_X = []\n",
    "lst_ml = []\n",
    "\n",
    "# todas as features\n",
    "lst_X.append(X_full) \n",
    "lst_ml.append('v1_full') \n",
    "\n",
    "# Sem as features de Geolocalização\n",
    "lst_X.append(X_nogeo) \n",
    "lst_ml.append('v2_nogeo') \n",
    "\n",
    "# Sem as features de Geolocalização e considerando somente as variáveis ciclicas (desconsiderando seus pares)\n",
    "lst_X.append(X_nogeo_cyclical)\n",
    "lst_ml.append('v3_nogeo_cyclical') \n",
    "\n",
    "# Com as features de Geolocalização e considerando somente as variáveis ciclicas (desconsiderando seus pares)\n",
    "lst_X.append(X_cyclical)\n",
    "lst_ml.append('v4_nogeo_cyclical') "
   ]
  },
  {
   "cell_type": "markdown",
   "metadata": {},
   "source": [
    "## Modelo de Regressão LASSO - Feature Selection"
   ]
  },
  {
   "cell_type": "code",
   "execution_count": 11,
   "metadata": {},
   "outputs": [],
   "source": [
    "# Usa todas as features para seleção das mais relevantes pelo modelo LASSO\n",
    "X = df[X_full]"
   ]
  },
  {
   "cell_type": "code",
   "execution_count": 12,
   "metadata": {},
   "outputs": [],
   "source": [
    "# Divisão em dados de treino e de teste\n",
    "X_train, X_test, y_train, y_test = train_test_split(X, Y, test_size=0.2)"
   ]
  },
  {
   "cell_type": "code",
   "execution_count": 13,
   "metadata": {},
   "outputs": [],
   "source": [
    "# Cria o modelo LASSO\n",
    "# alphas = [1, 0.1, 0.001, 0.0005] -> Esse parâmetro indica a lista de pesos alfas para calcular os modelos. \n",
    "# Se o valor None for atribuído, os alfas são definidos automaticamente.\n",
    "# Utilizo esses valores pois consegui um bom desempenho no modelo.\n",
    "\n",
    "modelo_lasso = LassoCV(alphas = [1, 0.1, 0.001, 0.0005]).fit(X_train, y_train)"
   ]
  },
  {
   "cell_type": "code",
   "execution_count": 14,
   "metadata": {},
   "outputs": [
    {
     "data": {
      "text/plain": [
       "4.863166387776213"
      ]
     },
     "execution_count": 14,
     "metadata": {},
     "output_type": "execute_result"
    }
   ],
   "source": [
    "# Calcula RMSE\n",
    "tools.calc_rmse(modelo_lasso, X_train, y_train).mean()"
   ]
  },
  {
   "cell_type": "code",
   "execution_count": 15,
   "metadata": {},
   "outputs": [
    {
     "data": {
      "text/plain": [
       "distance_km          2.187826\n",
       "pickup_longitude     0.575470\n",
       "sin_week             0.179904\n",
       "cos_week             0.064258\n",
       "passenger_count      0.055501\n",
       "month                0.041891\n",
       "sin_day_of_month     0.010739\n",
       "sin_day_of_week      0.008291\n",
       "week                 0.006836\n",
       "hour                 0.003300\n",
       "day_of_month         0.001423\n",
       "week_norm            0.000000\n",
       "hour_norm            0.000000\n",
       "day_of_month_norm    0.000000\n",
       "day_of_week_norm    -0.011161\n",
       "day_of_week         -0.018980\n",
       "cos_day_of_month    -0.035487\n",
       "pickup_latitude     -0.160308\n",
       "cos_day_of_week     -0.267976\n",
       "sin_hour            -0.398328\n",
       "cos_hour            -0.746014\n",
       "dropoff_latitude    -0.837935\n",
       "dropoff_longitude   -1.543289\n",
       "dtype: float64"
      ]
     },
     "execution_count": 15,
     "metadata": {},
     "output_type": "execute_result"
    }
   ],
   "source": [
    "# Mostra todos Coeficientes LASSO em ordem de relevância\n",
    "coef = pd.Series(modelo_lasso.coef_, index = X_train.columns)\n",
    "coef.sort_values(ascending=False)"
   ]
  },
  {
   "cell_type": "code",
   "execution_count": 16,
   "metadata": {},
   "outputs": [
    {
     "data": {
      "text/plain": [
       "Text(0.5, 1.0, 'Coeficientes no Modelo LASSO')"
      ]
     },
     "execution_count": 16,
     "metadata": {},
     "output_type": "execute_result"
    },
    {
     "data": {
      "image/png": "[encoded data removed]",
      "text/plain": [
       "<Figure size 576x1080 with 1 Axes>"
      ]
     },
     "metadata": {
      "needs_background": "light"
     },
     "output_type": "display_data"
    }
   ],
   "source": [
    "# Coeficientes LASSO - os 10 mais relevantes e menos relevantes para o modelo\n",
    "imp_coef = pd.concat([coef.sort_values().head(10), coef.sort_values().tail(10)])\n",
    "matplotlib.rcParams['figure.figsize'] = (8.0, 15.0)\n",
    "imp_coef.plot(kind = \"barh\")\n",
    "plt.title(\"Coeficientes no Modelo LASSO\")"
   ]
  },
  {
   "cell_type": "code",
   "execution_count": 17,
   "metadata": {},
   "outputs": [
    {
     "data": {
      "text/plain": [
       "distance_km         2.187826\n",
       "pickup_longitude    0.575470\n",
       "sin_week            0.179904\n",
       "cos_week            0.064258\n",
       "passenger_count     0.055501\n",
       "month               0.041891\n",
       "sin_day_of_month    0.010739\n",
       "sin_day_of_week     0.008291\n",
       "week                0.006836\n",
       "hour                0.003300\n",
       "day_of_month        0.001423\n",
       "dtype: float64"
      ]
     },
     "execution_count": 17,
     "metadata": {},
     "output_type": "execute_result"
    }
   ],
   "source": [
    "coef[coef.sort_values(ascending=False) > 0].sort_values(ascending=False)"
   ]
  },
  {
   "cell_type": "code",
   "execution_count": 18,
   "metadata": {},
   "outputs": [],
   "source": [
    "#### Criando modelo apenas com features relevantes (> 0), segundo modelo LASSO\n",
    "\n",
    "#LASSO sobre dataset de 1 MM de instancias\n",
    "X_LASSO = ['distance_km','pickup_longitude','sin_week','cos_week','passenger_count','month','sin_day_of_month',\n",
    "           'sin_day_of_week','week','hour','day_of_month']"
   ]
  },
  {
   "cell_type": "code",
   "execution_count": 19,
   "metadata": {},
   "outputs": [],
   "source": [
    "# acrescenta as features selecionadas pelo LASSO na lista de geração de modelos baseline\n",
    "lst_X.append(X_LASSO)\n",
    "lst_ml.append('v5_LASSO') "
   ]
  },
  {
   "cell_type": "markdown",
   "metadata": {},
   "source": [
    "##### Cria os modelos baseline"
   ]
  },
  {
   "cell_type": "code",
   "execution_count": 20,
   "metadata": {},
   "outputs": [
    {
     "name": "stdout",
     "output_type": "stream",
     "text": [
      "Criando modelo baseline - versão: v1_full ...\n",
      "Calculando RMSE e R2 - versão: v1_full ...\n",
      "Versão 0 - criada!\n",
      "\n",
      "Criando modelo baseline - versão: v2_nogeo ...\n",
      "Calculando RMSE e R2 - versão: v2_nogeo ...\n",
      "Versão 1 - criada!\n",
      "\n",
      "Criando modelo baseline - versão: v3_nogeo_cyclical ...\n",
      "Calculando RMSE e R2 - versão: v3_nogeo_cyclical ...\n",
      "Versão 2 - criada!\n",
      "\n",
      "Criando modelo baseline - versão: v4_nogeo_cyclical ...\n",
      "Calculando RMSE e R2 - versão: v4_nogeo_cyclical ...\n",
      "Versão 3 - criada!\n",
      "\n",
      "Criando modelo baseline - versão: v5_LASSO ...\n",
      "Calculando RMSE e R2 - versão: v5_LASSO ...\n",
      "Versão 4 - criada!\n",
      "\n",
      "Concluída criação de modelo baseline !\n"
     ]
    }
   ],
   "source": [
    "lst_rmse = []\n",
    "lst_r2 = []\n",
    "lst_rmse, lst_r2 = tools.create_model_baseline(df, lst_X, Y, lst_ml)"
   ]
  },
  {
   "cell_type": "markdown",
   "metadata": {},
   "source": [
    "#### Modelos baselines criados"
   ]
  },
  {
   "cell_type": "code",
   "execution_count": 21,
   "metadata": {},
   "outputs": [],
   "source": [
    "# colocando as avaliações em formato pandas \n",
    "df_baseline = pd.DataFrame(list(zip(lst_ml, lst_X, lst_rmse, lst_r2)),\n",
    "              columns=['baseline_versao', 'feature', 'rmse', 'r2'])"
   ]
  },
  {
   "cell_type": "code",
   "execution_count": 22,
   "metadata": {},
   "outputs": [
    {
     "data": {
      "text/html": [
       "<div>\n",
       "<style scoped>\n",
       "    .dataframe tbody tr th:only-of-type {\n",
       "        vertical-align: middle;\n",
       "    }\n",
       "\n",
       "    .dataframe tbody tr th {\n",
       "        vertical-align: top;\n",
       "    }\n",
       "\n",
       "    .dataframe thead th {\n",
       "        text-align: right;\n",
       "    }\n",
       "</style>\n",
       "<table border=\"1\" class=\"dataframe\">\n",
       "  <thead>\n",
       "    <tr style=\"text-align: right;\">\n",
       "      <th></th>\n",
       "      <th>baseline_versao</th>\n",
       "      <th>feature</th>\n",
       "      <th>rmse</th>\n",
       "      <th>r2</th>\n",
       "    </tr>\n",
       "  </thead>\n",
       "  <tbody>\n",
       "    <tr>\n",
       "      <th>0</th>\n",
       "      <td>v1_full</td>\n",
       "      <td>[pickup_longitude, pickup_latitude, dropoff_lo...</td>\n",
       "      <td>4.857350</td>\n",
       "      <td>0.734035</td>\n",
       "    </tr>\n",
       "    <tr>\n",
       "      <th>1</th>\n",
       "      <td>v2_nogeo</td>\n",
       "      <td>[passenger_count, hour, day_of_week, day_of_mo...</td>\n",
       "      <td>4.835332</td>\n",
       "      <td>0.744431</td>\n",
       "    </tr>\n",
       "    <tr>\n",
       "      <th>2</th>\n",
       "      <td>v3_nogeo_cyclical</td>\n",
       "      <td>[passenger_count, hour_norm, cos_hour, sin_hou...</td>\n",
       "      <td>4.856550</td>\n",
       "      <td>0.750994</td>\n",
       "    </tr>\n",
       "    <tr>\n",
       "      <th>3</th>\n",
       "      <td>v4_nogeo_cyclical</td>\n",
       "      <td>[pickup_longitude, pickup_latitude, dropoff_lo...</td>\n",
       "      <td>4.963950</td>\n",
       "      <td>0.764912</td>\n",
       "    </tr>\n",
       "    <tr>\n",
       "      <th>4</th>\n",
       "      <td>v5_LASSO</td>\n",
       "      <td>[distance_km, pickup_longitude, sin_week, cos_...</td>\n",
       "      <td>4.882225</td>\n",
       "      <td>0.748739</td>\n",
       "    </tr>\n",
       "  </tbody>\n",
       "</table>\n",
       "</div>"
      ],
      "text/plain": [
       "     baseline_versao                                            feature  \\\n",
       "0            v1_full  [pickup_longitude, pickup_latitude, dropoff_lo...   \n",
       "1           v2_nogeo  [passenger_count, hour, day_of_week, day_of_mo...   \n",
       "2  v3_nogeo_cyclical  [passenger_count, hour_norm, cos_hour, sin_hou...   \n",
       "3  v4_nogeo_cyclical  [pickup_longitude, pickup_latitude, dropoff_lo...   \n",
       "4           v5_LASSO  [distance_km, pickup_longitude, sin_week, cos_...   \n",
       "\n",
       "       rmse        r2  \n",
       "0  4.857350  0.734035  \n",
       "1  4.835332  0.744431  \n",
       "2  4.856550  0.750994  \n",
       "3  4.963950  0.764912  \n",
       "4  4.882225  0.748739  "
      ]
     },
     "execution_count": 22,
     "metadata": {},
     "output_type": "execute_result"
    }
   ],
   "source": [
    "df_baseline"
   ]
  },
  {
   "cell_type": "code",
   "execution_count": 23,
   "metadata": {},
   "outputs": [],
   "source": [
    "# salva avaliação dos modelos baseline\n",
    "# path\n",
    "csvFileName = \"../data/modelo_baseline_\" + str(size_dataset) + \"_float\" + str(size_float) + \"_\" + dt.now().strftime(\"%Y%m%d\") + \".csv\"\n",
    "df_baseline.to_csv(csvFileName);"
   ]
  },
  {
   "cell_type": "markdown",
   "metadata": {},
   "source": [
    "#### Avaliação das métricas\n",
    "##### RMSE"
   ]
  },
  {
   "cell_type": "code",
   "execution_count": 24,
   "metadata": {},
   "outputs": [
    {
     "data": {
      "text/html": [
       "<div>\n",
       "<style scoped>\n",
       "    .dataframe tbody tr th:only-of-type {\n",
       "        vertical-align: middle;\n",
       "    }\n",
       "\n",
       "    .dataframe tbody tr th {\n",
       "        vertical-align: top;\n",
       "    }\n",
       "\n",
       "    .dataframe thead th {\n",
       "        text-align: right;\n",
       "    }\n",
       "</style>\n",
       "<table border=\"1\" class=\"dataframe\">\n",
       "  <thead>\n",
       "    <tr style=\"text-align: right;\">\n",
       "      <th></th>\n",
       "      <th>baseline_versao</th>\n",
       "      <th>feature</th>\n",
       "      <th>rmse</th>\n",
       "      <th>r2</th>\n",
       "    </tr>\n",
       "  </thead>\n",
       "  <tbody>\n",
       "    <tr>\n",
       "      <th>3</th>\n",
       "      <td>v4_nogeo_cyclical</td>\n",
       "      <td>[pickup_longitude, pickup_latitude, dropoff_lo...</td>\n",
       "      <td>4.963950</td>\n",
       "      <td>0.764912</td>\n",
       "    </tr>\n",
       "    <tr>\n",
       "      <th>4</th>\n",
       "      <td>v5_LASSO</td>\n",
       "      <td>[distance_km, pickup_longitude, sin_week, cos_...</td>\n",
       "      <td>4.882225</td>\n",
       "      <td>0.748739</td>\n",
       "    </tr>\n",
       "    <tr>\n",
       "      <th>0</th>\n",
       "      <td>v1_full</td>\n",
       "      <td>[pickup_longitude, pickup_latitude, dropoff_lo...</td>\n",
       "      <td>4.857350</td>\n",
       "      <td>0.734035</td>\n",
       "    </tr>\n",
       "    <tr>\n",
       "      <th>2</th>\n",
       "      <td>v3_nogeo_cyclical</td>\n",
       "      <td>[passenger_count, hour_norm, cos_hour, sin_hou...</td>\n",
       "      <td>4.856550</td>\n",
       "      <td>0.750994</td>\n",
       "    </tr>\n",
       "    <tr>\n",
       "      <th>1</th>\n",
       "      <td>v2_nogeo</td>\n",
       "      <td>[passenger_count, hour, day_of_week, day_of_mo...</td>\n",
       "      <td>4.835332</td>\n",
       "      <td>0.744431</td>\n",
       "    </tr>\n",
       "  </tbody>\n",
       "</table>\n",
       "</div>"
      ],
      "text/plain": [
       "     baseline_versao                                            feature  \\\n",
       "3  v4_nogeo_cyclical  [pickup_longitude, pickup_latitude, dropoff_lo...   \n",
       "4           v5_LASSO  [distance_km, pickup_longitude, sin_week, cos_...   \n",
       "0            v1_full  [pickup_longitude, pickup_latitude, dropoff_lo...   \n",
       "2  v3_nogeo_cyclical  [passenger_count, hour_norm, cos_hour, sin_hou...   \n",
       "1           v2_nogeo  [passenger_count, hour, day_of_week, day_of_mo...   \n",
       "\n",
       "       rmse        r2  \n",
       "3  4.963950  0.764912  \n",
       "4  4.882225  0.748739  \n",
       "0  4.857350  0.734035  \n",
       "2  4.856550  0.750994  \n",
       "1  4.835332  0.744431  "
      ]
     },
     "execution_count": 24,
     "metadata": {},
     "output_type": "execute_result"
    }
   ],
   "source": [
    "df_baseline.sort_values('rmse',ascending=False)\n",
    "# todas versões apresentam o mesmo valor RMSE"
   ]
  },
  {
   "cell_type": "code",
   "execution_count": 25,
   "metadata": {},
   "outputs": [
    {
     "data": {
      "image/png": "[encoded data removed]",
      "text/plain": [
       "<Figure size 1440x936 with 1 Axes>"
      ]
     },
     "metadata": {
      "needs_background": "light"
     },
     "output_type": "display_data"
    }
   ],
   "source": [
    "plt.figure(figsize=(20,13))\n",
    "plt.bar('baseline_versao','rmse',data=df_baseline.sort_values('rmse',ascending=False))\n",
    "plt.xlabel(\"RMSE\", size=15)\n",
    "plt.ylabel(\"Valor\", size=15)\n",
    "plt.title(\"RMSE - Ordem Maior -> Menor\", size=18)\n",
    "plt.show()"
   ]
  },
  {
   "cell_type": "markdown",
   "metadata": {},
   "source": [
    "##### R2"
   ]
  },
  {
   "cell_type": "code",
   "execution_count": 26,
   "metadata": {},
   "outputs": [
    {
     "data": {
      "text/html": [
       "<div>\n",
       "<style scoped>\n",
       "    .dataframe tbody tr th:only-of-type {\n",
       "        vertical-align: middle;\n",
       "    }\n",
       "\n",
       "    .dataframe tbody tr th {\n",
       "        vertical-align: top;\n",
       "    }\n",
       "\n",
       "    .dataframe thead th {\n",
       "        text-align: right;\n",
       "    }\n",
       "</style>\n",
       "<table border=\"1\" class=\"dataframe\">\n",
       "  <thead>\n",
       "    <tr style=\"text-align: right;\">\n",
       "      <th></th>\n",
       "      <th>baseline_versao</th>\n",
       "      <th>feature</th>\n",
       "      <th>rmse</th>\n",
       "      <th>r2</th>\n",
       "    </tr>\n",
       "  </thead>\n",
       "  <tbody>\n",
       "    <tr>\n",
       "      <th>3</th>\n",
       "      <td>v4_nogeo_cyclical</td>\n",
       "      <td>[pickup_longitude, pickup_latitude, dropoff_lo...</td>\n",
       "      <td>4.963950</td>\n",
       "      <td>0.764912</td>\n",
       "    </tr>\n",
       "    <tr>\n",
       "      <th>2</th>\n",
       "      <td>v3_nogeo_cyclical</td>\n",
       "      <td>[passenger_count, hour_norm, cos_hour, sin_hou...</td>\n",
       "      <td>4.856550</td>\n",
       "      <td>0.750994</td>\n",
       "    </tr>\n",
       "    <tr>\n",
       "      <th>4</th>\n",
       "      <td>v5_LASSO</td>\n",
       "      <td>[distance_km, pickup_longitude, sin_week, cos_...</td>\n",
       "      <td>4.882225</td>\n",
       "      <td>0.748739</td>\n",
       "    </tr>\n",
       "    <tr>\n",
       "      <th>1</th>\n",
       "      <td>v2_nogeo</td>\n",
       "      <td>[passenger_count, hour, day_of_week, day_of_mo...</td>\n",
       "      <td>4.835332</td>\n",
       "      <td>0.744431</td>\n",
       "    </tr>\n",
       "    <tr>\n",
       "      <th>0</th>\n",
       "      <td>v1_full</td>\n",
       "      <td>[pickup_longitude, pickup_latitude, dropoff_lo...</td>\n",
       "      <td>4.857350</td>\n",
       "      <td>0.734035</td>\n",
       "    </tr>\n",
       "  </tbody>\n",
       "</table>\n",
       "</div>"
      ],
      "text/plain": [
       "     baseline_versao                                            feature  \\\n",
       "3  v4_nogeo_cyclical  [pickup_longitude, pickup_latitude, dropoff_lo...   \n",
       "2  v3_nogeo_cyclical  [passenger_count, hour_norm, cos_hour, sin_hou...   \n",
       "4           v5_LASSO  [distance_km, pickup_longitude, sin_week, cos_...   \n",
       "1           v2_nogeo  [passenger_count, hour, day_of_week, day_of_mo...   \n",
       "0            v1_full  [pickup_longitude, pickup_latitude, dropoff_lo...   \n",
       "\n",
       "       rmse        r2  \n",
       "3  4.963950  0.764912  \n",
       "2  4.856550  0.750994  \n",
       "4  4.882225  0.748739  \n",
       "1  4.835332  0.744431  \n",
       "0  4.857350  0.734035  "
      ]
     },
     "execution_count": 26,
     "metadata": {},
     "output_type": "execute_result"
    }
   ],
   "source": [
    "df_baseline.sort_values('r2',ascending=False)\n",
    "# todas versões apresentam o mesmo valor RMSE"
   ]
  },
  {
   "cell_type": "code",
   "execution_count": 27,
   "metadata": {},
   "outputs": [
    {
     "data": {
      "image/png": "[encoded data removed]",
      "text/plain": [
       "<Figure size 1440x936 with 1 Axes>"
      ]
     },
     "metadata": {
      "needs_background": "light"
     },
     "output_type": "display_data"
    }
   ],
   "source": [
    "plt.figure(figsize=(20,13))\n",
    "plt.bar('baseline_versao','r2',data=df_baseline.sort_values('r2',ascending=False))\n",
    "plt.xlabel(\"R2\", size=15)\n",
    "plt.ylabel(\"Valor\", size=15)\n",
    "plt.title(\"R2 - Ordem Maior -> Menor\", size=18)\n",
    "plt.show()"
   ]
  },
  {
   "cell_type": "markdown",
   "metadata": {},
   "source": [
    "### Escolhendo modelo baseline para poder ser otimizado usando outros algoritmos de Regressão"
   ]
  },
  {
   "cell_type": "code",
   "execution_count": 29,
   "metadata": {},
   "outputs": [
    {
     "name": "stdout",
     "output_type": "stream",
     "text": [
      "Tamanho do dataset: 1000000\n",
      "Tamanho do float: 64\n"
     ]
    },
    {
     "data": {
      "text/plain": [
       "baseline_versao                                    v4_nogeo_cyclical\n",
       "feature            [pickup_longitude, pickup_latitude, dropoff_lo...\n",
       "rmse                                                         4.96395\n",
       "r2                                                          0.764912\n",
       "Name: 3, dtype: object"
      ]
     },
     "metadata": {},
     "output_type": "display_data"
    }
   ],
   "source": [
    "# tamanho do dataset\n",
    "print('Tamanho do dataset: ' + str(size_dataset))\n",
    "\n",
    "# tamanho do float\n",
    "print('Tamanho do float: ' + str(size_float))\n",
    "\n",
    "# Todas as versões apresentaram valores bem próximos, portanto um média destas metricas será usada.\n",
    "#display(df_baseline.iloc[3])"
   ]
  },
  {
   "cell_type": "code",
   "execution_count": 28,
   "metadata": {},
   "outputs": [],
   "source": [
    "# Tamanho do dataset: 1000000\n",
    "# Tamanho do float: 32\n",
    "# baseline_versao                                    v4_nogeo_cyclical\n",
    "# feature            [pickup_longitude, pickup_latitude, dropoff_lo...\n",
    "# rmse                                                        4.891904\n",
    "# r2                                                          0.758374\n",
    "\n",
    "\n",
    "# Tamanho do dataset: 1000000\n",
    "# Tamanho do float: 64\n",
    "# baseline_versao                                    v4_nogeo_cyclical\n",
    "# feature            [pickup_longitude, pickup_latitude, dropoff_lo...\n",
    "# rmse                                                         4.96395\n",
    "# r2                                                          0.764912"
   ]
  },
  {
   "cell_type": "markdown",
   "metadata": {},
   "source": [
    "## Métricas baseline\n",
    "\n",
    "#### RMSE = 4.96\n",
    "#### r2 = 0.76"
   ]
  },
  {
   "cell_type": "markdown",
   "metadata": {},
   "source": [
    "#### A redução do tamanho do float e int não teve perda significativa nas métricas (como era de se esperar), e portanto usarei o formato reduzido para avaliar quaquer outro modelo."
   ]
  },
  {
   "cell_type": "markdown",
   "metadata": {},
   "source": [
    "## Achado o modelo baseline vamos avaliar os demais modelos"
   ]
  }
 ],
 "metadata": {
  "kernelspec": {
   "display_name": "Python 3",
   "language": "python",
   "name": "python3"
  },
  "language_info": {
   "codemirror_mode": {
    "name": "ipython",
    "version": 3
   },
   "file_extension": ".py",
   "mimetype": "text/x-python",
   "name": "python",
   "nbconvert_exporter": "python",
   "pygments_lexer": "ipython3",
   "version": "3.7.6"
  }
 },
 "nbformat": 4,
 "nbformat_minor": 4
}
